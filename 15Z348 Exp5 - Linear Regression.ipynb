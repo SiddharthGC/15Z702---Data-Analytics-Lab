{
 "cells": [
  {
   "cell_type": "code",
   "execution_count": 1,
   "metadata": {},
   "outputs": [
    {
     "name": "stdout",
     "output_type": "stream",
     "text": [
      "Enter the number of values5\n",
      "Enter (x,y):\n",
      "Xval = 1\n",
      "Yval = 2\n",
      "Xval = 2\n",
      "Yval = 3\n",
      "Xval = 3\n",
      "Yval = 4\n",
      "Xval = 4\n",
      "Yval = 5\n",
      "Xval = 5\n",
      "Yval = 6\n"
     ]
    }
   ],
   "source": [
    "import matplotlib.pyplot as plt\n",
    "import numpy as np\n",
    "\n",
    "n = int(input(\"Enter the number of values\"))\n",
    "points = []\n",
    "print(\"Enter (x,y):\")\n",
    "for i in range(n):\n",
    "    points.append([])\n",
    "    points[i].append(float(input(\"Xval = \")))\n",
    "    points[i].append(float(input(\"Yval = \")))"
   ]
  },
  {
   "cell_type": "code",
   "execution_count": 7,
   "metadata": {},
   "outputs": [
    {
     "data": {
      "text/plain": [
       "[<matplotlib.lines.Line2D at 0x238b2cd7748>]"
      ]
     },
     "execution_count": 7,
     "metadata": {},
     "output_type": "execute_result"
    },
    {
     "data": {
      "image/png": "[encoded data removed]",
      "text/plain": [
       "<Figure size 432x288 with 1 Axes>"
      ]
     },
     "metadata": {},
     "output_type": "display_data"
    }
   ],
   "source": [
    "plt.plot([group[0] for group in points], [group[1] for group in points], 'ro')"
   ]
  },
  {
   "cell_type": "code",
   "execution_count": 8,
   "metadata": {},
   "outputs": [
    {
     "name": "stdout",
     "output_type": "stream",
     "text": [
      "X Mean = 3.0\n",
      "Y Mean = 4.0\n"
     ]
    }
   ],
   "source": [
    "xMean = sum([group[0] for group in points])/n\n",
    "yMean = sum([group[1] for group in points])/n\n",
    "print(\"X Mean = \"+str(xMean))\n",
    "print(\"Y Mean = \"+str(yMean))"
   ]
  },
  {
   "cell_type": "code",
   "execution_count": 4,
   "metadata": {},
   "outputs": [
    {
     "name": "stdout",
     "output_type": "stream",
     "text": [
      "XY =  70.0\n"
     ]
    }
   ],
   "source": [
    "xy = 0\n",
    "for i in range(n):\n",
    "    xy = xy + points[i][0]*points[i][1]\n",
    "print('XY = ',xy)"
   ]
  },
  {
   "cell_type": "code",
   "execution_count": 10,
   "metadata": {},
   "outputs": [
    {
     "name": "stdout",
     "output_type": "stream",
     "text": [
      "y = 1.0x + 1.0\n"
     ]
    }
   ],
   "source": [
    "beta = (xy - n*xMean*yMean)/((sum([group[0]**2 for group in points])) - n*(xMean**2))\n",
    "alpha = yMean - beta*xMean\n",
    "print(\"y = \"+str(round(beta,3))+\"x + \"+str(round(alpha,3)))"
   ]
  },
  {
   "cell_type": "code",
   "execution_count": 9,
   "metadata": {},
   "outputs": [
    {
     "data": {
      "text/plain": [
       "[<matplotlib.lines.Line2D at 0x238b2d0ca90>]"
      ]
     },
     "execution_count": 9,
     "metadata": {},
     "output_type": "execute_result"
    },
    {
     "data": {
      "image/png": "[encoded data removed]",
      "text/plain": [
       "<Figure size 432x288 with 1 Axes>"
      ]
     },
     "metadata": {},
     "output_type": "display_data"
    }
   ],
   "source": [
    "x = np.array([group[0] for group in points])\n",
    "y = np.array([group[1] for group in points])\n",
    "plt.plot(x, y, 'ro')\n",
    "plt.plot(x,alpha*x+beta )"
   ]
  },
  {
   "cell_type": "code",
   "execution_count": null,
   "metadata": {},
   "outputs": [],
   "source": []
  }
 ],
 "metadata": {
  "kernelspec": {
   "display_name": "Python 3",
   "language": "python",
   "name": "python3"
  },
  "language_info": {
   "codemirror_mode": {
    "name": "ipython",
    "version": 3
   },
   "file_extension": ".py",
   "mimetype": "text/x-python",
   "name": "python",
   "nbconvert_exporter": "python",
   "pygments_lexer": "ipython3",
   "version": "3.6.6"
  }
 },
 "nbformat": 4,
 "nbformat_minor": 2
}
